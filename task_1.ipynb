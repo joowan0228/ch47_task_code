{
  "cells": [
    {
      "cell_type": "markdown",
      "metadata": {
        "id": "view-in-github",
        "colab_type": "text"
      },
      "source": [
        "<a href=\"https://colab.research.google.com/github/joowan0228/ch47_task_code/blob/main/task_1.ipynb\" target=\"_parent\"><img src=\"https://colab.research.google.com/assets/colab-badge.svg\" alt=\"Open In Colab\"/></a>"
      ]
    },
    {
      "cell_type": "markdown",
      "metadata": {
        "id": "SPj7C_Pqo6b9"
      },
      "source": [
        "안녕하세요. 수강생 여러분~! Chapter42 ~ 47 수업은 잘 들으셨나요?\n",
        "\n",
        "Chapter42 ~ 47의 수업 내용을 바탕으로 아래 문제를 풀어주시면 됩니다.\n",
        "\n",
        "\n",
        "<br>\n",
        "\n",
        "\n",
        "[**답변 입력 방법**]\n",
        "\n",
        "문제 아래에 있는 코드 입력창에 정답코드를 작성하신 후  __▷ 버튼을 클릭해 코드를 실행__ 해보세요<br>"
      ]
    },
    {
      "cell_type": "markdown",
      "metadata": {
        "id": "PspvbOhBo6b_"
      },
      "source": [
        "---"
      ]
    },
    {
      "cell_type": "markdown",
      "metadata": {
        "id": "-SWAsyDpo6b_"
      },
      "source": [
        "[문제 1]\n",
        "\n",
        "'Person'이라는 클래스를 선언하세요. 이 클래스는 name (이름)과 age (나이) 두 개의 속성을 갖습니다.<br>\n",
        "\n",
        "그리고 'greet'라는 메소드를 갖고 있으며, 이 메소드는 \"안녕하세요, 제 이름은 [name]입니다.\n",
        "\n",
        "나이는 [age]살입니다.\"라는 메시지를 반환합니다.<br>\n",
        "이 클래스를 사용하여 '홍길동'이라는 이름과 20살의 나이를 가진 'Person' 객체를 생성하고, 'greet' 메소드를 호출하여 메시지를 출력하세요."
      ]
    },
    {
      "cell_type": "code",
      "execution_count": null,
      "metadata": {
        "id": "n4ysU6Cuo6b_",
        "outputId": "09946cc8-9f5b-4cd6-e67b-07553fe9ee70"
      },
      "outputs": [
        {
          "name": "stdout",
          "output_type": "stream",
          "text": [
            "안녕하세요, 제 이름은 이주완입니다.\n",
            "나이는 24살입니다.\n"
          ]
        }
      ],
      "source": [
        "class Person:\n",
        "    def __init__(self, name, age):\n",
        "        self.name = name\n",
        "        self.age = age\n",
        "\n",
        "    def greet(self):\n",
        "        return f\"안녕하세요, 제 이름은 {self.name}입니다.\\n나이는 {self.age}살입니다.\"\n",
        "\n",
        "person = Person(\"이주완\", 24)\n",
        "print(person.greet())"
      ]
    },
    {
      "cell_type": "markdown",
      "metadata": {
        "id": "qwGBKxWQo6cA"
      },
      "source": [
        "---"
      ]
    },
    {
      "cell_type": "markdown",
      "metadata": {
        "id": "6HUGP54bo6cA"
      },
      "source": [
        "[문제 2]\n",
        "\n",
        "'Rectangle' 클래스를 작성하세요.\n",
        "\n",
        "이 클래스는 높이(height)와 너비(width)를 속성으로 가지며, 생성자(__init__)를 통해 이 두 속성을 초기화합니다.\n",
        "\n",
        "'area' 메소드를 추가하여 사각형의 면적을 계산하고 반환하도록 하세요. 높이가 10, 너비가 5인 사각형 객체를 생성하고,<br>\n",
        "이 객체를 사용하여 면적을 계산해 출력하세요."
      ]
    },
    {
      "cell_type": "code",
      "execution_count": null,
      "metadata": {
        "id": "Ha_vgjbbo6cA",
        "outputId": "be915073-6d66-454e-ce2b-886a9429d152"
      },
      "outputs": [
        {
          "name": "stdout",
          "output_type": "stream",
          "text": [
            "126\n"
          ]
        }
      ],
      "source": [
        "class Rectangle:\n",
        "    def __init__(self, height, width):\n",
        "        self.height = height\n",
        "        self.width = width\n",
        "\n",
        "    def area(self):\n",
        "        return self.height * self.width\n",
        "\n",
        "rectangle = Rectangle(7, 18)\n",
        "print(rectangle.area())"
      ]
    },
    {
      "cell_type": "markdown",
      "metadata": {
        "id": "Ic63Yeejo6cB"
      },
      "source": [
        "---"
      ]
    },
    {
      "cell_type": "markdown",
      "metadata": {
        "id": "9OX5npQPo6cB"
      },
      "source": [
        "[문제 3]\n",
        "\n",
        "'Book' 클래스를 선언하세요.\n",
        "\n",
        "이 클래스는 title (제목)과 author (저자) 두 개의 속성을 갖습니다.\n",
        "\n",
        "__str__ 특수 메소드를 오버라이드하여, 객체를 문자열로 변환할 때 \"제목: [title], 저자: [author]\" 형식의 문자열을 반환하도록 하세요.\n",
        "\n",
        "'Book' 객체를 하나 생성하고, print 함수를 사용하여 해당 객체의 문자열 표현을 출력하세요."
      ]
    },
    {
      "cell_type": "code",
      "execution_count": null,
      "metadata": {
        "id": "ZcMkVom2o6cB",
        "outputId": "bfdf5733-251e-41d5-c77b-73ceac27af86"
      },
      "outputs": [
        {
          "name": "stdout",
          "output_type": "stream",
          "text": [
            "제목: 그림으로 배우는 파이썬, 저자: 다카하시 마나\n"
          ]
        }
      ],
      "source": [
        "class Book:\n",
        "    def __init__(self, title, author):\n",
        "        self.title = title\n",
        "        self.author = author\n",
        "\n",
        "    def __str__(self):\n",
        "        return f\"제목: {self.title}, 저자: {self.author}\"\n",
        "\n",
        "book = Book(\"그림으로 배우는 파이썬\", \"다카하시 마나\")\n",
        "print(book)"
      ]
    },
    {
      "cell_type": "markdown",
      "metadata": {
        "id": "5QjjI2iEo6cB"
      },
      "source": [
        "---"
      ]
    },
    {
      "cell_type": "markdown",
      "metadata": {
        "id": "mlqF0BM7o6cB"
      },
      "source": [
        "[문제 4]\n",
        "\n",
        "'Employee' 클래스를 선언하세요.\n",
        "\n",
        "이 클래스는 월급인상률을 의미하는 클래스 변수로 'raise_amount'를 갖고 있으며, 기본값은 1.04입니다. 다음 급여는 기본 급여에 월급인상률을 곱한 값으로 결정합니다.\n",
        "\n",
        "또한, 각 직원의 이름(name)과 급여(salary)를 속성으로 가지며, 'apply_raise' 메소드를 통해 급여에 'raise_amount'를 적용할 수 있어야 합니다.\n",
        "\n",
        "'Employee' 클래스의 객체 두 개를 생성하고, 한 객체에만 'raise_amount'를 변경한 후, 두 객체의 급여를 증가시켜보세요.<br>\n",
        "그리고 각 객체의 새로운 급여를 출력하세요."
      ]
    },
    {
      "cell_type": "code",
      "execution_count": null,
      "metadata": {
        "id": "9spjrPaJo6cB",
        "outputId": "1a2afd59-872f-46ac-ccd5-a7db7af5e83e"
      },
      "outputs": [
        {
          "name": "stdout",
          "output_type": "stream",
          "text": [
            "파이썬의 새 급여: 14300\n",
            "우분투의 새 급여: 14560\n"
          ]
        }
      ],
      "source": [
        "class Employee:\n",
        "    raise_amount = 1.04\n",
        "\n",
        "    def __init__(self, name, salary):\n",
        "        self.name = name\n",
        "        self.salary = salary\n",
        "\n",
        "    def apply_raise(self):\n",
        "        self.salary = int(self.salary * self.raise_amount)\n",
        "\n",
        "emp1 = Employee(\"파이썬\", 13000)\n",
        "emp2 = Employee(\"우분투\", 14000)\n",
        "\n",
        "emp1.raise_amount = 1.10\n",
        "\n",
        "emp1.apply_raise()\n",
        "emp2.apply_raise()\n",
        "\n",
        "print(f\"{emp1.name}의 새 급여: {emp1.salary}\")\n",
        "print(f\"{emp2.name}의 새 급여: {emp2.salary}\")"
      ]
    },
    {
      "cell_type": "markdown",
      "metadata": {
        "id": "wEhxJ9bCo6cB"
      },
      "source": [
        "---"
      ]
    },
    {
      "cell_type": "markdown",
      "metadata": {
        "id": "z0nCqZlCo6cC"
      },
      "source": [
        "[문제 5]\n",
        "\n",
        "'Account' 클래스를 작성하세요.\n",
        "\n",
        "이 클래스는 소유자(owner)와 잔액(balance)을 속성으로 가지며, 잔액은 프라이빗 변수로 선언합니다.\n",
        "\n",
        "'deposit'와 'withdraw' 두 개의 메소드를 통해 잔액을 조작할 수 있도록 하세요.\n",
        "\n",
        "이 때, 잔액은 음수가 될 수 없도록 체크해야 합니다. 'Account' 객체를 생성하고,<br>\n",
        "입금 및 출금 작업을 시뮬레이션한 후, 최종 잔액을 출력하세요."
      ]
    },
    {
      "cell_type": "code",
      "execution_count": null,
      "metadata": {
        "id": "1SLz3nFto6cC",
        "outputId": "a5adb51e-69ff-4eaa-a6d4-1434f3755078"
      },
      "outputs": [
        {
          "name": "stdout",
          "output_type": "stream",
          "text": [
            "입금 성공\n",
            "출금 성공\n",
            "5200\n"
          ]
        }
      ],
      "source": [
        "class Account:\n",
        "    def __init__(self, owner, balance=0):\n",
        "        self.owner = owner\n",
        "        self.__balance = balance\n",
        "\n",
        "    def deposit(self, amount):\n",
        "        if amount > 0:\n",
        "            self.__balance += amount\n",
        "            print(\"입금 성공\")\n",
        "        else:\n",
        "            print(\"입금 실패\")\n",
        "\n",
        "    def withdraw(self, amount):\n",
        "        if 0 < amount <= self.__balance:\n",
        "            self.__balance -= amount\n",
        "            print(\"출금 성공\")\n",
        "        else:\n",
        "            print(\"출금 실패\")\n",
        "\n",
        "    def get_balance(self):\n",
        "        return self.__balance\n",
        "\n",
        "account = Account(\"이주완\", 5000)\n",
        "account.deposit(500)\n",
        "account.withdraw(300)\n",
        "print(account.get_balance())"
      ]
    },
    {
      "cell_type": "markdown",
      "metadata": {
        "id": "tDoBl-54o6cC"
      },
      "source": [
        "---"
      ]
    },
    {
      "cell_type": "markdown",
      "metadata": {
        "id": "aUFjpBeno6cC"
      },
      "source": [
        "[문제 6]\n",
        "\n",
        "'Vehicle'이라는 기본 클래스를 선언하세요.\n",
        "\n",
        "이 클래스는 make (제조사)와 model (모델명) 두 개의 속성을 갖고, 생성자(__init__)를 통해 이 두 속성을 초기화합니다. 'display_info'라는 메소드를 추가하여, \"이 차량은 [make]에서 제조한 [model]입니다.\"라는 메시지를 반환하도록 하세요.\n",
        "\n",
        "'Truck'과 'Car' 두 개의 하위 클래스를 생성하고, 각 클래스는 'Vehicle' 클래스로부터 상속받습니다.\n",
        "\n",
        "'Truck' 클래스에는 추가로 'payload' (적재량) 속성을, 'Car' 클래스에는 'seats' (좌석 수) 속성을 추가합니다. 각각의 하위 클래스에서 'display_info' 메소드는 기본 클래스의 메소드를 그대로 사용합니다.\n",
        "\n",
        "'Truck'과 'Car' 객체 각각을 생성하고, 'display_info' 메소드를 호출하여 정보를 출력하세요.\n",
        "\n",
        "또한, 각 객체의 추가 속성(적재량, 좌석 수)에 대한 정보도 출력하세요.\n",
        "\n",
        "이 문제는 클래스의 상속 개념을 이해하고, 기본 클래스의 속성과 메소드를 하위 클래스가 어떻게 활용할 수 있는지 보여줍니다.\n",
        "\n",
        "오버라이드는 필요하지 않으며, 각 하위 클래스의 고유한 속성을 추가하는 방법에 초점을 맞춥니다."
      ]
    },
    {
      "cell_type": "code",
      "execution_count": null,
      "metadata": {
        "id": "QO2zjcgfo6cC",
        "outputId": "468bfa11-69af-464b-e174-3f5be1964e24"
      },
      "outputs": [
        {
          "name": "stdout",
          "output_type": "stream",
          "text": [
            "이 차량은 현대에서 제조한 엑시언트입니다.\n",
            "적재량: 15톤\n",
            "이 차량은 기아에서 제조한 K5입니다.\n",
            "좌석 수: 5개\n"
          ]
        }
      ],
      "source": [
        "class Vehicle:\n",
        "    def __init__(self, make, model):\n",
        "        self.make = make\n",
        "        self.model = model\n",
        "\n",
        "    def display_info(self):\n",
        "        return f\"이 차량은 {self.make}에서 제조한 {self.model}입니다.\"\n",
        "\n",
        "class Truck(Vehicle):\n",
        "    def __init__(self, make, model, payload):\n",
        "        super().__init__(make, model)\n",
        "        self.payload = payload\n",
        "\n",
        "class Car(Vehicle):\n",
        "    def __init__(self, make, model, seats):\n",
        "        super().__init__(make, model)\n",
        "        self.seats = seats\n",
        "\n",
        "truck = Truck(\"현대\", \"엑시언트\", 15)\n",
        "car = Car(\"기아\", \"K5\", 5)\n",
        "\n",
        "print(truck.display_info())\n",
        "print(f\"적재량: {truck.payload}톤\")\n",
        "\n",
        "print(car.display_info())\n",
        "print(f\"좌석 수: {car.seats}개\")"
      ]
    },
    {
      "cell_type": "markdown",
      "metadata": {
        "id": "UWlVu-_To6cC"
      },
      "source": [
        "---"
      ]
    }
  ],
  "metadata": {
    "kernelspec": {
      "display_name": "Python 3",
      "language": "python",
      "name": "python3"
    },
    "language_info": {
      "codemirror_mode": {
        "name": "ipython",
        "version": 3
      },
      "file_extension": ".py",
      "mimetype": "text/x-python",
      "name": "python",
      "nbconvert_exporter": "python",
      "pygments_lexer": "ipython3",
      "version": "3.10.6"
    },
    "colab": {
      "provenance": [],
      "include_colab_link": true
    }
  },
  "nbformat": 4,
  "nbformat_minor": 0
}